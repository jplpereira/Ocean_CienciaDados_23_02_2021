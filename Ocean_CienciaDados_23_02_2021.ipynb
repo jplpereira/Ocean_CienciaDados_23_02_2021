{
  "nbformat": 4,
  "nbformat_minor": 0,
  "metadata": {
    "colab": {
      "name": "Ocean_CienciaDados_23_02_2021.ipynb",
      "provenance": [],
      "collapsed_sections": [],
      "authorship_tag": "ABX9TyNPnZMqOoWdVJbjnVoz2ZW8",
      "include_colab_link": true
    },
    "kernelspec": {
      "name": "python3",
      "display_name": "Python 3"
    }
  },
  "cells": [
    {
      "cell_type": "markdown",
      "metadata": {
        "id": "view-in-github",
        "colab_type": "text"
      },
      "source": [
        "<a href=\"https://colab.research.google.com/github/paulosalvatore/Ocean_CienciaDados_23_02_2021/blob/main/Ocean_CienciaDados_23_02_2021.ipynb\" target=\"_parent\"><img src=\"https://colab.research.google.com/assets/colab-badge.svg\" alt=\"Open In Colab\"/></a>"
      ]
    },
    {
      "cell_type": "markdown",
      "metadata": {
        "id": "MZmH_IO55-Tb"
      },
      "source": [
        "# Introdução ao Pandas"
      ]
    },
    {
      "cell_type": "code",
      "metadata": {
        "id": "JqEiBmHmy_kC"
      },
      "source": [
        "import pandas as pd"
      ],
      "execution_count": 1,
      "outputs": []
    },
    {
      "cell_type": "code",
      "metadata": {
        "colab": {
          "base_uri": "https://localhost:8080/"
        },
        "id": "arF5Mp_fz1Mg",
        "outputId": "048d3f95-208a-457e-e9bd-719bb06ab3a7"
      },
      "source": [
        "# Lista\r\n",
        "\r\n",
        "lista = [10, 20, 30, 40, 50]\r\n",
        "\r\n",
        "print(lista)\r\n",
        "print(type(lista))\r\n",
        "print(\"Primeiro elemento:\", lista[0])\r\n",
        "print(\"Primeiro elemento:\", type(lista[0]))\r\n",
        "\r\n",
        "# Criando uma Series -> Mesma coisa que uma lista, mas com as funções do Pandas e o Numpy por baixo dos panos\r\n",
        "\r\n",
        "series_numerica = pd.Series(lista)\r\n",
        "\r\n",
        "print(series_numerica)\r\n",
        "print(type(series_numerica))\r\n",
        "print(\"Primeiro elemento da series:\", series_numerica[0])\r\n",
        "print(\"Primeiro elemento:\", type(series_numerica[0]))"
      ],
      "execution_count": 7,
      "outputs": [
        {
          "output_type": "stream",
          "text": [
            "[10, 20, 30, 40, 50]\n",
            "<class 'list'>\n",
            "Primeiro elemento: 10\n",
            "Primeiro elemento: <class 'int'>\n",
            "0    10\n",
            "1    20\n",
            "2    30\n",
            "3    40\n",
            "4    50\n",
            "dtype: int64\n",
            "<class 'pandas.core.series.Series'>\n",
            "Primeiro elemento da series: 10\n",
            "Primeiro elemento: <class 'numpy.int64'>\n"
          ],
          "name": "stdout"
        }
      ]
    },
    {
      "cell_type": "code",
      "metadata": {
        "colab": {
          "base_uri": "https://localhost:8080/"
        },
        "id": "QPjK_IyV1gEk",
        "outputId": "075ad9bf-1b01-4e7e-a7d7-a995318b9452"
      },
      "source": [
        "# Criando uma Series com o mesmo valor várias vezes\r\n",
        "\r\n",
        "pd.Series(9.7, range(10))"
      ],
      "execution_count": 8,
      "outputs": [
        {
          "output_type": "execute_result",
          "data": {
            "text/plain": [
              "0    9.7\n",
              "1    9.7\n",
              "2    9.7\n",
              "3    9.7\n",
              "4    9.7\n",
              "5    9.7\n",
              "6    9.7\n",
              "7    9.7\n",
              "8    9.7\n",
              "9    9.7\n",
              "dtype: float64"
            ]
          },
          "metadata": {
            "tags": []
          },
          "execution_count": 8
        }
      ]
    },
    {
      "cell_type": "code",
      "metadata": {
        "colab": {
          "base_uri": "https://localhost:8080/"
        },
        "id": "bp6kzLRO1u1X",
        "outputId": "85c428e2-f1be-473f-83fc-375c32855e70"
      },
      "source": [
        "# Quantos elementos temos na Series?\r\n",
        "\r\n",
        "# Na lista:\r\n",
        "print(\"Quantidade de elementos na Lista:\", len(lista))\r\n",
        "\r\n",
        "# Na Series:\r\n",
        "print(\"Quantidade de elementos na Series:\", series_numerica.count())"
      ],
      "execution_count": 10,
      "outputs": [
        {
          "output_type": "stream",
          "text": [
            "Quantidade de elementos na Lista: 5\n",
            "Quantidade de elementos na Series: 5\n"
          ],
          "name": "stdout"
        }
      ]
    },
    {
      "cell_type": "code",
      "metadata": {
        "colab": {
          "base_uri": "https://localhost:8080/"
        },
        "id": "3WTOsBqZ2DFh",
        "outputId": "0a13aabd-3b9c-41ce-dc97-1b050e782fe0"
      },
      "source": [
        "# A grande vantagem das series é a utilização com fórmulas matemáticas e cálculos estatísticos\r\n",
        "\r\n",
        "# Média\r\n",
        "print(\"Média\", series_numerica.mean())\r\n",
        "\r\n",
        "# Mínimo\r\n",
        "print(\"Mínimo\", series_numerica.min())\r\n",
        "\r\n",
        "# Máximo\r\n",
        "print(\"Máximo\", series_numerica.max())\r\n",
        "\r\n",
        "# Desvio Padrão\r\n",
        "print(\"Desvio Padrão\", series_numerica.std())\r\n",
        "\r\n",
        "print(\"\\nSeries Describe\\n\")\r\n",
        "series_numerica.describe()"
      ],
      "execution_count": 19,
      "outputs": [
        {
          "output_type": "stream",
          "text": [
            "Média 30.0\n",
            "Mínimo 10\n",
            "Máximo 50\n",
            "Desvio Padrão 15.811388300841896\n",
            "\n",
            "Series Describe\n",
            "\n"
          ],
          "name": "stdout"
        },
        {
          "output_type": "execute_result",
          "data": {
            "text/plain": [
              "count     5.000000\n",
              "mean     30.000000\n",
              "std      15.811388\n",
              "min      10.000000\n",
              "25%      20.000000\n",
              "50%      30.000000\n",
              "75%      40.000000\n",
              "max      50.000000\n",
              "dtype: float64"
            ]
          },
          "metadata": {
            "tags": []
          },
          "execution_count": 19
        }
      ]
    },
    {
      "cell_type": "code",
      "metadata": {
        "colab": {
          "base_uri": "https://localhost:8080/"
        },
        "id": "OnvKyPi52vYd",
        "outputId": "fa398528-dd27-4b48-d238-e13f36bf11fc"
      },
      "source": [
        "lista = [10, 20, 30]\r\n",
        "lista_indices = ['1ª dezena', '2ª dezena', '3ª dezena']\r\n",
        "\r\n",
        "lista_indices_nomeados = pd.Series(lista, lista_indices)\r\n",
        "\r\n",
        "print(lista_indices_nomeados)\r\n",
        "\r\n",
        "print(lista_indices_nomeados['1ª dezena'])"
      ],
      "execution_count": 22,
      "outputs": [
        {
          "output_type": "stream",
          "text": [
            "1ª dezena    10\n",
            "2ª dezena    20\n",
            "3ª dezena    30\n",
            "dtype: int64\n",
            "10\n"
          ],
          "name": "stdout"
        }
      ]
    },
    {
      "cell_type": "code",
      "metadata": {
        "colab": {
          "base_uri": "https://localhost:8080/"
        },
        "id": "p7vc_k8z3XYm",
        "outputId": "92b18c05-d418-4e71-93db-f659ba22ad2a"
      },
      "source": [
        "# DataFrame\r\n",
        "\r\n",
        "# Representa uma matriz/dataset, que são tabelas (linhas e colunas)\r\n",
        "\r\n",
        "# Um DataFrame possui várias Series dentro\r\n",
        "\r\n",
        "# Criação de um Dicionário\r\n",
        "\r\n",
        "dicionario = {\r\n",
        "    'ESTADO': ['Amazonas', 'Amapá', 'Acre'],\r\n",
        "    'SIGLA': ['AM', 'AP', 'AC'],\r\n",
        "    'CAPITAL': ['Manaus', 'Macapá', 'Rio Branco']\r\n",
        "}\r\n",
        "\r\n",
        "print(dicionario)\r\n",
        "print(type(dicionario))\r\n",
        "\r\n",
        "dt = pd.DataFrame(dicionario)\r\n",
        "\r\n",
        "print()\r\n",
        "\r\n",
        "print(type(dt))\r\n",
        "print(dt)"
      ],
      "execution_count": 51,
      "outputs": [
        {
          "output_type": "stream",
          "text": [
            "{'ESTADO': ['Amazonas', 'Amapá', 'Acre'], 'SIGLA': ['AM', 'AP', 'AC'], 'CAPITAL': ['Manaus', 'Macapá', 'Rio Branco']}\n",
            "<class 'dict'>\n",
            "\n",
            "<class 'pandas.core.frame.DataFrame'>\n",
            "     ESTADO SIGLA     CAPITAL\n",
            "0  Amazonas    AM      Manaus\n",
            "1     Amapá    AP      Macapá\n",
            "2      Acre    AC  Rio Branco\n"
          ],
          "name": "stdout"
        }
      ]
    },
    {
      "cell_type": "code",
      "metadata": {
        "colab": {
          "base_uri": "https://localhost:8080/",
          "height": 140
        },
        "id": "CumtrYNN5A9Y",
        "outputId": "f0d83aa1-0778-4f84-921a-a6a810e58979"
      },
      "source": [
        "dt"
      ],
      "execution_count": 41,
      "outputs": [
        {
          "output_type": "execute_result",
          "data": {
            "text/html": [
              "<div>\n",
              "<style scoped>\n",
              "    .dataframe tbody tr th:only-of-type {\n",
              "        vertical-align: middle;\n",
              "    }\n",
              "\n",
              "    .dataframe tbody tr th {\n",
              "        vertical-align: top;\n",
              "    }\n",
              "\n",
              "    .dataframe thead th {\n",
              "        text-align: right;\n",
              "    }\n",
              "</style>\n",
              "<table border=\"1\" class=\"dataframe\">\n",
              "  <thead>\n",
              "    <tr style=\"text-align: right;\">\n",
              "      <th></th>\n",
              "      <th>ESTADO</th>\n",
              "      <th>SIGLA</th>\n",
              "      <th>CAPITAL</th>\n",
              "    </tr>\n",
              "  </thead>\n",
              "  <tbody>\n",
              "    <tr>\n",
              "      <th>0</th>\n",
              "      <td>Amazonas</td>\n",
              "      <td>AM</td>\n",
              "      <td>Manaus</td>\n",
              "    </tr>\n",
              "    <tr>\n",
              "      <th>1</th>\n",
              "      <td>Amapá</td>\n",
              "      <td>AP</td>\n",
              "      <td>Macapá</td>\n",
              "    </tr>\n",
              "    <tr>\n",
              "      <th>2</th>\n",
              "      <td>Acre</td>\n",
              "      <td>AC</td>\n",
              "      <td>Rio Branco</td>\n",
              "    </tr>\n",
              "  </tbody>\n",
              "</table>\n",
              "</div>"
            ],
            "text/plain": [
              "     ESTADO SIGLA     CAPITAL\n",
              "0  Amazonas    AM      Manaus\n",
              "1     Amapá    AP      Macapá\n",
              "2      Acre    AC  Rio Branco"
            ]
          },
          "metadata": {
            "tags": []
          },
          "execution_count": 41
        }
      ]
    },
    {
      "cell_type": "code",
      "metadata": {
        "colab": {
          "base_uri": "https://localhost:8080/"
        },
        "id": "r1v85MtK5L7I",
        "outputId": "b9050196-5281-4210-b0a0-10d3b1a20387"
      },
      "source": [
        "print(dicionario['ESTADO'])\r\n",
        "print(type(dicionario['ESTADO']))"
      ],
      "execution_count": 43,
      "outputs": [
        {
          "output_type": "stream",
          "text": [
            "['Amazonas', 'Amapá', 'Acre']\n",
            "<class 'list'>\n"
          ],
          "name": "stdout"
        }
      ]
    },
    {
      "cell_type": "code",
      "metadata": {
        "colab": {
          "base_uri": "https://localhost:8080/"
        },
        "id": "2rRemXU_5SZ9",
        "outputId": "fec41e2f-e443-49a2-d453-d49ad9ceb7d8"
      },
      "source": [
        "print(dt['ESTADO'])\r\n",
        "print(type(dt['ESTADO']))"
      ],
      "execution_count": 47,
      "outputs": [
        {
          "output_type": "stream",
          "text": [
            "0    Amazonas\n",
            "1       Amapá\n",
            "2        Acre\n",
            "Name: ESTADO, dtype: object\n",
            "<class 'pandas.core.series.Series'>\n"
          ],
          "name": "stdout"
        }
      ]
    },
    {
      "cell_type": "code",
      "metadata": {
        "colab": {
          "base_uri": "https://localhost:8080/"
        },
        "id": "TX0wttAp5eiE",
        "outputId": "bdf5e15b-16f1-46f5-92ce-2bb21a098f71"
      },
      "source": [
        "print(dt['ESTADO'].describe())"
      ],
      "execution_count": 53,
      "outputs": [
        {
          "output_type": "stream",
          "text": [
            "count         3\n",
            "unique        3\n",
            "top       Amapá\n",
            "freq          1\n",
            "Name: ESTADO, dtype: object\n"
          ],
          "name": "stdout"
        }
      ]
    },
    {
      "cell_type": "code",
      "metadata": {
        "colab": {
          "base_uri": "https://localhost:8080/"
        },
        "id": "oF-Cz8EY5y8U",
        "outputId": "c300e3d9-50cb-4cce-8d10-01d29453fa8f"
      },
      "source": [
        "dt.ESTADO"
      ],
      "execution_count": 56,
      "outputs": [
        {
          "output_type": "execute_result",
          "data": {
            "text/plain": [
              "0    Amazonas\n",
              "1       Amapá\n",
              "2        Acre\n",
              "Name: ESTADO, dtype: object"
            ]
          },
          "metadata": {
            "tags": []
          },
          "execution_count": 56
        }
      ]
    },
    {
      "cell_type": "markdown",
      "metadata": {
        "id": "gc0vySlI6lxx"
      },
      "source": [
        "# Trabalhando com CSV"
      ]
    },
    {
      "cell_type": "code",
      "metadata": {
        "id": "n-aiYY_y6o7Y"
      },
      "source": [
        "import pandas as pd"
      ],
      "execution_count": 57,
      "outputs": []
    },
    {
      "cell_type": "code",
      "metadata": {
        "id": "2gFVicNW7E0-"
      },
      "source": [
        "dt = pd.read_csv('https://raw.githubusercontent.com/paulosalvatore/Ocean_CienciaDados_23_02_2021/main/dados-curso.csv')"
      ],
      "execution_count": 58,
      "outputs": []
    },
    {
      "cell_type": "code",
      "metadata": {
        "id": "bdbJFRk37Uz2"
      },
      "source": [
        "dt"
      ],
      "execution_count": null,
      "outputs": []
    },
    {
      "cell_type": "code",
      "metadata": {
        "colab": {
          "base_uri": "https://localhost:8080/"
        },
        "id": "-5A-8k3S7gov",
        "outputId": "01a6ccc5-13a9-4214-96d7-53c93c8fb128"
      },
      "source": [
        "print(dt.shape)\r\n",
        "print(type(dt.shape))\r\n",
        "\r\n",
        "rows = dt.shape[0]\r\n",
        "print(rows)"
      ],
      "execution_count": 66,
      "outputs": [
        {
          "output_type": "stream",
          "text": [
            "(500, 9)\n",
            "<class 'tuple'>\n",
            "500\n"
          ],
          "name": "stdout"
        }
      ]
    },
    {
      "cell_type": "code",
      "metadata": {
        "id": "5xnVJABV8XTn"
      },
      "source": [
        "dt.head(20)"
      ],
      "execution_count": null,
      "outputs": []
    }
  ]
}