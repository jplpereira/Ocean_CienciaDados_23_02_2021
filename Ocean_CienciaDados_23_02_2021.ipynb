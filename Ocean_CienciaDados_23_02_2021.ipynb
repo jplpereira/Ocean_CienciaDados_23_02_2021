{
  "nbformat": 4,
  "nbformat_minor": 0,
  "metadata": {
    "colab": {
      "name": "Ocean_CienciaDados_23_02_2021.ipynb",
      "provenance": [],
      "collapsed_sections": [],
      "authorship_tag": "ABX9TyOCQrqdm/PnD9Ansqy4X4rO",
      "include_colab_link": true
    },
    "kernelspec": {
      "name": "python3",
      "display_name": "Python 3"
    }
  },
  "cells": [
    {
      "cell_type": "markdown",
      "metadata": {
        "id": "view-in-github",
        "colab_type": "text"
      },
      "source": [
        "<a href=\"https://colab.research.google.com/github/paulosalvatore/Ocean_CienciaDados_23_02_2021/blob/main/Ocean_CienciaDados_23_02_2021.ipynb\" target=\"_parent\"><img src=\"https://colab.research.google.com/assets/colab-badge.svg\" alt=\"Open In Colab\"/></a>"
      ]
    },
    {
      "cell_type": "markdown",
      "metadata": {
        "id": "MZmH_IO55-Tb"
      },
      "source": [
        "# Introdução ao Pandas"
      ]
    },
    {
      "cell_type": "code",
      "metadata": {
        "id": "JqEiBmHmy_kC"
      },
      "source": [
        "import pandas as pd"
      ],
      "execution_count": null,
      "outputs": []
    },
    {
      "cell_type": "code",
      "metadata": {
        "colab": {
          "base_uri": "https://localhost:8080/"
        },
        "id": "arF5Mp_fz1Mg",
        "outputId": "048d3f95-208a-457e-e9bd-719bb06ab3a7"
      },
      "source": [
        "# Lista\r\n",
        "\r\n",
        "lista = [10, 20, 30, 40, 50]\r\n",
        "\r\n",
        "print(lista)\r\n",
        "print(type(lista))\r\n",
        "print(\"Primeiro elemento:\", lista[0])\r\n",
        "print(\"Primeiro elemento:\", type(lista[0]))\r\n",
        "\r\n",
        "# Criando uma Series -> Mesma coisa que uma lista, mas com as funções do Pandas e o Numpy por baixo dos panos\r\n",
        "\r\n",
        "series_numerica = pd.Series(lista)\r\n",
        "\r\n",
        "print(series_numerica)\r\n",
        "print(type(series_numerica))\r\n",
        "print(\"Primeiro elemento da series:\", series_numerica[0])\r\n",
        "print(\"Primeiro elemento:\", type(series_numerica[0]))"
      ],
      "execution_count": null,
      "outputs": [
        {
          "output_type": "stream",
          "text": [
            "[10, 20, 30, 40, 50]\n",
            "<class 'list'>\n",
            "Primeiro elemento: 10\n",
            "Primeiro elemento: <class 'int'>\n",
            "0    10\n",
            "1    20\n",
            "2    30\n",
            "3    40\n",
            "4    50\n",
            "dtype: int64\n",
            "<class 'pandas.core.series.Series'>\n",
            "Primeiro elemento da series: 10\n",
            "Primeiro elemento: <class 'numpy.int64'>\n"
          ],
          "name": "stdout"
        }
      ]
    },
    {
      "cell_type": "code",
      "metadata": {
        "colab": {
          "base_uri": "https://localhost:8080/"
        },
        "id": "QPjK_IyV1gEk",
        "outputId": "075ad9bf-1b01-4e7e-a7d7-a995318b9452"
      },
      "source": [
        "# Criando uma Series com o mesmo valor várias vezes\r\n",
        "\r\n",
        "pd.Series(9.7, range(10))"
      ],
      "execution_count": null,
      "outputs": [
        {
          "output_type": "execute_result",
          "data": {
            "text/plain": [
              "0    9.7\n",
              "1    9.7\n",
              "2    9.7\n",
              "3    9.7\n",
              "4    9.7\n",
              "5    9.7\n",
              "6    9.7\n",
              "7    9.7\n",
              "8    9.7\n",
              "9    9.7\n",
              "dtype: float64"
            ]
          },
          "metadata": {
            "tags": []
          },
          "execution_count": 8
        }
      ]
    },
    {
      "cell_type": "code",
      "metadata": {
        "colab": {
          "base_uri": "https://localhost:8080/"
        },
        "id": "bp6kzLRO1u1X",
        "outputId": "85c428e2-f1be-473f-83fc-375c32855e70"
      },
      "source": [
        "# Quantos elementos temos na Series?\r\n",
        "\r\n",
        "# Na lista:\r\n",
        "print(\"Quantidade de elementos na Lista:\", len(lista))\r\n",
        "\r\n",
        "# Na Series:\r\n",
        "print(\"Quantidade de elementos na Series:\", series_numerica.count())"
      ],
      "execution_count": null,
      "outputs": [
        {
          "output_type": "stream",
          "text": [
            "Quantidade de elementos na Lista: 5\n",
            "Quantidade de elementos na Series: 5\n"
          ],
          "name": "stdout"
        }
      ]
    },
    {
      "cell_type": "code",
      "metadata": {
        "colab": {
          "base_uri": "https://localhost:8080/"
        },
        "id": "3WTOsBqZ2DFh",
        "outputId": "0a13aabd-3b9c-41ce-dc97-1b050e782fe0"
      },
      "source": [
        "# A grande vantagem das series é a utilização com fórmulas matemáticas e cálculos estatísticos\r\n",
        "\r\n",
        "# Média\r\n",
        "print(\"Média\", series_numerica.mean())\r\n",
        "\r\n",
        "# Mínimo\r\n",
        "print(\"Mínimo\", series_numerica.min())\r\n",
        "\r\n",
        "# Máximo\r\n",
        "print(\"Máximo\", series_numerica.max())\r\n",
        "\r\n",
        "# Desvio Padrão\r\n",
        "print(\"Desvio Padrão\", series_numerica.std())\r\n",
        "\r\n",
        "print(\"\\nSeries Describe\\n\")\r\n",
        "series_numerica.describe()"
      ],
      "execution_count": null,
      "outputs": [
        {
          "output_type": "stream",
          "text": [
            "Média 30.0\n",
            "Mínimo 10\n",
            "Máximo 50\n",
            "Desvio Padrão 15.811388300841896\n",
            "\n",
            "Series Describe\n",
            "\n"
          ],
          "name": "stdout"
        },
        {
          "output_type": "execute_result",
          "data": {
            "text/plain": [
              "count     5.000000\n",
              "mean     30.000000\n",
              "std      15.811388\n",
              "min      10.000000\n",
              "25%      20.000000\n",
              "50%      30.000000\n",
              "75%      40.000000\n",
              "max      50.000000\n",
              "dtype: float64"
            ]
          },
          "metadata": {
            "tags": []
          },
          "execution_count": 19
        }
      ]
    },
    {
      "cell_type": "code",
      "metadata": {
        "colab": {
          "base_uri": "https://localhost:8080/"
        },
        "id": "OnvKyPi52vYd",
        "outputId": "fa398528-dd27-4b48-d238-e13f36bf11fc"
      },
      "source": [
        "lista = [10, 20, 30]\r\n",
        "lista_indices = ['1ª dezena', '2ª dezena', '3ª dezena']\r\n",
        "\r\n",
        "lista_indices_nomeados = pd.Series(lista, lista_indices)\r\n",
        "\r\n",
        "print(lista_indices_nomeados)\r\n",
        "\r\n",
        "print(lista_indices_nomeados['1ª dezena'])"
      ],
      "execution_count": null,
      "outputs": [
        {
          "output_type": "stream",
          "text": [
            "1ª dezena    10\n",
            "2ª dezena    20\n",
            "3ª dezena    30\n",
            "dtype: int64\n",
            "10\n"
          ],
          "name": "stdout"
        }
      ]
    },
    {
      "cell_type": "code",
      "metadata": {
        "colab": {
          "base_uri": "https://localhost:8080/"
        },
        "id": "p7vc_k8z3XYm",
        "outputId": "92b18c05-d418-4e71-93db-f659ba22ad2a"
      },
      "source": [
        "# DataFrame\r\n",
        "\r\n",
        "# Representa uma matriz/dataset, que são tabelas (linhas e colunas)\r\n",
        "\r\n",
        "# Um DataFrame possui várias Series dentro\r\n",
        "\r\n",
        "# Criação de um Dicionário\r\n",
        "\r\n",
        "dicionario = {\r\n",
        "    'ESTADO': ['Amazonas', 'Amapá', 'Acre'],\r\n",
        "    'SIGLA': ['AM', 'AP', 'AC'],\r\n",
        "    'CAPITAL': ['Manaus', 'Macapá', 'Rio Branco']\r\n",
        "}\r\n",
        "\r\n",
        "print(dicionario)\r\n",
        "print(type(dicionario))\r\n",
        "\r\n",
        "dt = pd.DataFrame(dicionario)\r\n",
        "\r\n",
        "print()\r\n",
        "\r\n",
        "print(type(dt))\r\n",
        "print(dt)"
      ],
      "execution_count": null,
      "outputs": [
        {
          "output_type": "stream",
          "text": [
            "{'ESTADO': ['Amazonas', 'Amapá', 'Acre'], 'SIGLA': ['AM', 'AP', 'AC'], 'CAPITAL': ['Manaus', 'Macapá', 'Rio Branco']}\n",
            "<class 'dict'>\n",
            "\n",
            "<class 'pandas.core.frame.DataFrame'>\n",
            "     ESTADO SIGLA     CAPITAL\n",
            "0  Amazonas    AM      Manaus\n",
            "1     Amapá    AP      Macapá\n",
            "2      Acre    AC  Rio Branco\n"
          ],
          "name": "stdout"
        }
      ]
    },
    {
      "cell_type": "code",
      "metadata": {
        "colab": {
          "base_uri": "https://localhost:8080/",
          "height": 140
        },
        "id": "CumtrYNN5A9Y",
        "outputId": "f0d83aa1-0778-4f84-921a-a6a810e58979"
      },
      "source": [
        "dt"
      ],
      "execution_count": null,
      "outputs": [
        {
          "output_type": "execute_result",
          "data": {
            "text/html": [
              "<div>\n",
              "<style scoped>\n",
              "    .dataframe tbody tr th:only-of-type {\n",
              "        vertical-align: middle;\n",
              "    }\n",
              "\n",
              "    .dataframe tbody tr th {\n",
              "        vertical-align: top;\n",
              "    }\n",
              "\n",
              "    .dataframe thead th {\n",
              "        text-align: right;\n",
              "    }\n",
              "</style>\n",
              "<table border=\"1\" class=\"dataframe\">\n",
              "  <thead>\n",
              "    <tr style=\"text-align: right;\">\n",
              "      <th></th>\n",
              "      <th>ESTADO</th>\n",
              "      <th>SIGLA</th>\n",
              "      <th>CAPITAL</th>\n",
              "    </tr>\n",
              "  </thead>\n",
              "  <tbody>\n",
              "    <tr>\n",
              "      <th>0</th>\n",
              "      <td>Amazonas</td>\n",
              "      <td>AM</td>\n",
              "      <td>Manaus</td>\n",
              "    </tr>\n",
              "    <tr>\n",
              "      <th>1</th>\n",
              "      <td>Amapá</td>\n",
              "      <td>AP</td>\n",
              "      <td>Macapá</td>\n",
              "    </tr>\n",
              "    <tr>\n",
              "      <th>2</th>\n",
              "      <td>Acre</td>\n",
              "      <td>AC</td>\n",
              "      <td>Rio Branco</td>\n",
              "    </tr>\n",
              "  </tbody>\n",
              "</table>\n",
              "</div>"
            ],
            "text/plain": [
              "     ESTADO SIGLA     CAPITAL\n",
              "0  Amazonas    AM      Manaus\n",
              "1     Amapá    AP      Macapá\n",
              "2      Acre    AC  Rio Branco"
            ]
          },
          "metadata": {
            "tags": []
          },
          "execution_count": 41
        }
      ]
    },
    {
      "cell_type": "code",
      "metadata": {
        "colab": {
          "base_uri": "https://localhost:8080/"
        },
        "id": "r1v85MtK5L7I",
        "outputId": "b9050196-5281-4210-b0a0-10d3b1a20387"
      },
      "source": [
        "print(dicionario['ESTADO'])\r\n",
        "print(type(dicionario['ESTADO']))"
      ],
      "execution_count": null,
      "outputs": [
        {
          "output_type": "stream",
          "text": [
            "['Amazonas', 'Amapá', 'Acre']\n",
            "<class 'list'>\n"
          ],
          "name": "stdout"
        }
      ]
    },
    {
      "cell_type": "code",
      "metadata": {
        "colab": {
          "base_uri": "https://localhost:8080/"
        },
        "id": "2rRemXU_5SZ9",
        "outputId": "fec41e2f-e443-49a2-d453-d49ad9ceb7d8"
      },
      "source": [
        "print(dt['ESTADO'])\r\n",
        "print(type(dt['ESTADO']))"
      ],
      "execution_count": null,
      "outputs": [
        {
          "output_type": "stream",
          "text": [
            "0    Amazonas\n",
            "1       Amapá\n",
            "2        Acre\n",
            "Name: ESTADO, dtype: object\n",
            "<class 'pandas.core.series.Series'>\n"
          ],
          "name": "stdout"
        }
      ]
    },
    {
      "cell_type": "code",
      "metadata": {
        "colab": {
          "base_uri": "https://localhost:8080/"
        },
        "id": "TX0wttAp5eiE",
        "outputId": "bdf5e15b-16f1-46f5-92ce-2bb21a098f71"
      },
      "source": [
        "print(dt['ESTADO'].describe())"
      ],
      "execution_count": null,
      "outputs": [
        {
          "output_type": "stream",
          "text": [
            "count         3\n",
            "unique        3\n",
            "top       Amapá\n",
            "freq          1\n",
            "Name: ESTADO, dtype: object\n"
          ],
          "name": "stdout"
        }
      ]
    },
    {
      "cell_type": "code",
      "metadata": {
        "colab": {
          "base_uri": "https://localhost:8080/"
        },
        "id": "oF-Cz8EY5y8U",
        "outputId": "c300e3d9-50cb-4cce-8d10-01d29453fa8f"
      },
      "source": [
        "dt.ESTADO"
      ],
      "execution_count": null,
      "outputs": [
        {
          "output_type": "execute_result",
          "data": {
            "text/plain": [
              "0    Amazonas\n",
              "1       Amapá\n",
              "2        Acre\n",
              "Name: ESTADO, dtype: object"
            ]
          },
          "metadata": {
            "tags": []
          },
          "execution_count": 56
        }
      ]
    },
    {
      "cell_type": "markdown",
      "metadata": {
        "id": "gc0vySlI6lxx"
      },
      "source": [
        "# Trabalhando com CSV"
      ]
    },
    {
      "cell_type": "code",
      "metadata": {
        "id": "n-aiYY_y6o7Y"
      },
      "source": [
        "import pandas as pd"
      ],
      "execution_count": null,
      "outputs": []
    },
    {
      "cell_type": "code",
      "metadata": {
        "id": "2gFVicNW7E0-"
      },
      "source": [
        "dt = pd.read_csv('https://raw.githubusercontent.com/paulosalvatore/Ocean_CienciaDados_23_02_2021/main/dados-curso.csv')"
      ],
      "execution_count": null,
      "outputs": []
    },
    {
      "cell_type": "code",
      "metadata": {
        "id": "bdbJFRk37Uz2"
      },
      "source": [
        "dt"
      ],
      "execution_count": null,
      "outputs": []
    },
    {
      "cell_type": "code",
      "metadata": {
        "colab": {
          "base_uri": "https://localhost:8080/"
        },
        "id": "-5A-8k3S7gov",
        "outputId": "01a6ccc5-13a9-4214-96d7-53c93c8fb128"
      },
      "source": [
        "print(dt.shape)\r\n",
        "print(type(dt.shape))\r\n",
        "\r\n",
        "rows = dt.shape[0]\r\n",
        "print(rows)"
      ],
      "execution_count": null,
      "outputs": [
        {
          "output_type": "stream",
          "text": [
            "(500, 9)\n",
            "<class 'tuple'>\n",
            "500\n"
          ],
          "name": "stdout"
        }
      ]
    },
    {
      "cell_type": "code",
      "metadata": {
        "id": "5xnVJABV8XTn"
      },
      "source": [
        "dt.head(20)"
      ],
      "execution_count": null,
      "outputs": []
    },
    {
      "cell_type": "code",
      "metadata": {
        "colab": {
          "base_uri": "https://localhost:8080/"
        },
        "id": "oH3709MK853G",
        "outputId": "8ff1ab00-8ddf-4059-9ba1-2ba397abb9b7"
      },
      "source": [
        "dt.lugar"
      ],
      "execution_count": 71,
      "outputs": [
        {
          "output_type": "execute_result",
          "data": {
            "text/plain": [
              "0      Rio das Ostras\n",
              "1           Sao Paulo\n",
              "2              Lisbon\n",
              "3           Sao Paulo\n",
              "4              Santos\n",
              "            ...      \n",
              "495        Rio Branco\n",
              "496    Rio de Janeiro\n",
              "497           Toronto\n",
              "498         Sao Paulo\n",
              "499            Lisbon\n",
              "Name: lugar, Length: 500, dtype: object"
            ]
          },
          "metadata": {
            "tags": []
          },
          "execution_count": 71
        }
      ]
    },
    {
      "cell_type": "code",
      "metadata": {
        "colab": {
          "base_uri": "https://localhost:8080/"
        },
        "id": "dGsrNhOe9E6k",
        "outputId": "87c4fb6a-cfcc-4af3-f009-ec1a9a94cb96"
      },
      "source": [
        "dt.lugar.describe()"
      ],
      "execution_count": 72,
      "outputs": [
        {
          "output_type": "execute_result",
          "data": {
            "text/plain": [
              "count        500\n",
              "unique       202\n",
              "top       Lisbon\n",
              "freq          61\n",
              "Name: lugar, dtype: object"
            ]
          },
          "metadata": {
            "tags": []
          },
          "execution_count": 72
        }
      ]
    },
    {
      "cell_type": "code",
      "metadata": {
        "colab": {
          "base_uri": "https://localhost:8080/",
          "height": 34
        },
        "id": "iYlyKbH29MMm",
        "outputId": "4c240f09-bfbe-431d-cf3e-ecf7efd23f07"
      },
      "source": [
        "dt.lugar[4]"
      ],
      "execution_count": 73,
      "outputs": [
        {
          "output_type": "execute_result",
          "data": {
            "application/vnd.google.colaboratory.intrinsic+json": {
              "type": "string"
            },
            "text/plain": [
              "'Santos'"
            ]
          },
          "metadata": {
            "tags": []
          },
          "execution_count": 73
        }
      ]
    },
    {
      "cell_type": "code",
      "metadata": {
        "colab": {
          "base_uri": "https://localhost:8080/",
          "height": 408
        },
        "id": "aQRiTax39QXJ",
        "outputId": "84729cb2-b174-405d-c4a0-d63574f41ebd"
      },
      "source": [
        "dt"
      ],
      "execution_count": 74,
      "outputs": [
        {
          "output_type": "execute_result",
          "data": {
            "text/html": [
              "<div>\n",
              "<style scoped>\n",
              "    .dataframe tbody tr th:only-of-type {\n",
              "        vertical-align: middle;\n",
              "    }\n",
              "\n",
              "    .dataframe tbody tr th {\n",
              "        vertical-align: top;\n",
              "    }\n",
              "\n",
              "    .dataframe thead th {\n",
              "        text-align: right;\n",
              "    }\n",
              "</style>\n",
              "<table border=\"1\" class=\"dataframe\">\n",
              "  <thead>\n",
              "    <tr style=\"text-align: right;\">\n",
              "      <th></th>\n",
              "      <th>data</th>\n",
              "      <th>texto</th>\n",
              "      <th>retweet</th>\n",
              "      <th>idioma</th>\n",
              "      <th>lugar</th>\n",
              "      <th>pais</th>\n",
              "      <th>sigla</th>\n",
              "      <th>latitude</th>\n",
              "      <th>longitude</th>\n",
              "    </tr>\n",
              "  </thead>\n",
              "  <tbody>\n",
              "    <tr>\n",
              "      <th>0</th>\n",
              "      <td>2020-05-23 00:21:14</td>\n",
              "      <td>Para voltar tudo ao normal, você precisa fazer...</td>\n",
              "      <td>0</td>\n",
              "      <td>pt</td>\n",
              "      <td>Rio das Ostras</td>\n",
              "      <td>Brazil</td>\n",
              "      <td>BR</td>\n",
              "      <td>-41.937900</td>\n",
              "      <td>-22.522600</td>\n",
              "    </tr>\n",
              "    <tr>\n",
              "      <th>1</th>\n",
              "      <td>2020-03-22 22:57:51</td>\n",
              "      <td>14.245 – O que é a hidroxicloroquina? https://...</td>\n",
              "      <td>0</td>\n",
              "      <td>pt</td>\n",
              "      <td>Sao Paulo</td>\n",
              "      <td>Brazil</td>\n",
              "      <td>BR</td>\n",
              "      <td>-46.674739</td>\n",
              "      <td>-23.606067</td>\n",
              "    </tr>\n",
              "    <tr>\n",
              "      <th>2</th>\n",
              "      <td>2020-04-14 00:11:33</td>\n",
              "      <td>Quarta morte em Lar de Estarreja associada à C...</td>\n",
              "      <td>1</td>\n",
              "      <td>pt</td>\n",
              "      <td>Lisbon</td>\n",
              "      <td>Portugal</td>\n",
              "      <td>PT</td>\n",
              "      <td>-9.099043</td>\n",
              "      <td>38.747518</td>\n",
              "    </tr>\n",
              "    <tr>\n",
              "      <th>3</th>\n",
              "      <td>2020-05-25 20:45:43</td>\n",
              "      <td>COVID-19 |  Hospital municipal Tide Setúbal, n...</td>\n",
              "      <td>0</td>\n",
              "      <td>pt</td>\n",
              "      <td>Sao Paulo</td>\n",
              "      <td>Brazil</td>\n",
              "      <td>BR</td>\n",
              "      <td>-46.633300</td>\n",
              "      <td>-23.550000</td>\n",
              "    </tr>\n",
              "    <tr>\n",
              "      <th>4</th>\n",
              "      <td>2020-04-15 10:34:39</td>\n",
              "      <td>#cenasdocotidiano #santos #distanciamentosocia...</td>\n",
              "      <td>0</td>\n",
              "      <td>pt</td>\n",
              "      <td>Santos</td>\n",
              "      <td>Brazil</td>\n",
              "      <td>BR</td>\n",
              "      <td>-46.293700</td>\n",
              "      <td>-23.975947</td>\n",
              "    </tr>\n",
              "    <tr>\n",
              "      <th>...</th>\n",
              "      <td>...</td>\n",
              "      <td>...</td>\n",
              "      <td>...</td>\n",
              "      <td>...</td>\n",
              "      <td>...</td>\n",
              "      <td>...</td>\n",
              "      <td>...</td>\n",
              "      <td>...</td>\n",
              "      <td>...</td>\n",
              "    </tr>\n",
              "    <tr>\n",
              "      <th>495</th>\n",
              "      <td>2020-04-07 16:14:13</td>\n",
              "      <td>O isolamento social também serve para mostrar ...</td>\n",
              "      <td>1</td>\n",
              "      <td>pt</td>\n",
              "      <td>Rio Branco</td>\n",
              "      <td>Brazil</td>\n",
              "      <td>BR</td>\n",
              "      <td>-67.859657</td>\n",
              "      <td>-9.932246</td>\n",
              "    </tr>\n",
              "    <tr>\n",
              "      <th>496</th>\n",
              "      <td>2020-03-26 18:02:28</td>\n",
              "      <td>Enquanto o mundo está atento ao covid 19 é o B...</td>\n",
              "      <td>0</td>\n",
              "      <td>pt</td>\n",
              "      <td>Rio de Janeiro</td>\n",
              "      <td>Brazil</td>\n",
              "      <td>BR</td>\n",
              "      <td>-43.358100</td>\n",
              "      <td>-22.942800</td>\n",
              "    </tr>\n",
              "    <tr>\n",
              "      <th>497</th>\n",
              "      <td>2020-03-18 05:28:16</td>\n",
              "      <td>#covid_19 #stayhome @ Toronto, Ontario https:/...</td>\n",
              "      <td>0</td>\n",
              "      <td>pt</td>\n",
              "      <td>Toronto</td>\n",
              "      <td>Canada</td>\n",
              "      <td>CA</td>\n",
              "      <td>-79.387200</td>\n",
              "      <td>43.648000</td>\n",
              "    </tr>\n",
              "    <tr>\n",
              "      <th>498</th>\n",
              "      <td>2020-03-03 21:27:11</td>\n",
              "      <td>Um vira-lata sem Coronavirus #joeviralata #dog...</td>\n",
              "      <td>0</td>\n",
              "      <td>pt</td>\n",
              "      <td>Sao Paulo</td>\n",
              "      <td>Brazil</td>\n",
              "      <td>BR</td>\n",
              "      <td>-46.633300</td>\n",
              "      <td>-23.550000</td>\n",
              "    </tr>\n",
              "    <tr>\n",
              "      <th>499</th>\n",
              "      <td>2020-01-21 13:18:03</td>\n",
              "      <td>Portugal já está a preparar-se para responder ...</td>\n",
              "      <td>1</td>\n",
              "      <td>pt</td>\n",
              "      <td>Lisbon</td>\n",
              "      <td>Portugal</td>\n",
              "      <td>PT</td>\n",
              "      <td>-9.099043</td>\n",
              "      <td>38.747518</td>\n",
              "    </tr>\n",
              "  </tbody>\n",
              "</table>\n",
              "<p>500 rows × 9 columns</p>\n",
              "</div>"
            ],
            "text/plain": [
              "                    data  ...  longitude\n",
              "0    2020-05-23 00:21:14  ... -22.522600\n",
              "1    2020-03-22 22:57:51  ... -23.606067\n",
              "2    2020-04-14 00:11:33  ...  38.747518\n",
              "3    2020-05-25 20:45:43  ... -23.550000\n",
              "4    2020-04-15 10:34:39  ... -23.975947\n",
              "..                   ...  ...        ...\n",
              "495  2020-04-07 16:14:13  ...  -9.932246\n",
              "496  2020-03-26 18:02:28  ... -22.942800\n",
              "497  2020-03-18 05:28:16  ...  43.648000\n",
              "498  2020-03-03 21:27:11  ... -23.550000\n",
              "499  2020-01-21 13:18:03  ...  38.747518\n",
              "\n",
              "[500 rows x 9 columns]"
            ]
          },
          "metadata": {
            "tags": []
          },
          "execution_count": 74
        }
      ]
    },
    {
      "cell_type": "code",
      "metadata": {
        "colab": {
          "base_uri": "https://localhost:8080/"
        },
        "id": "SHJZOf4G9TfA",
        "outputId": "4d3f8d6c-fa9c-4676-c0d9-f7300fd8475d"
      },
      "source": [
        "# ILOC\r\n",
        "\r\n",
        "print(dt.iloc[0])\r\n",
        "\r\n",
        "print(type(dt.iloc[0]))\r\n",
        "\r\n",
        "print(dt.latitude[0])\r\n",
        "print(dt.iloc[0].latitude)"
      ],
      "execution_count": 79,
      "outputs": [
        {
          "output_type": "stream",
          "text": [
            "data                                       2020-05-23 00:21:14\n",
            "texto        Para voltar tudo ao normal, você precisa fazer...\n",
            "retweet                                                      0\n",
            "idioma                                                      pt\n",
            "lugar                                           Rio das Ostras\n",
            "pais                                                    Brazil\n",
            "sigla                                                       BR\n",
            "latitude                                              -41.9379\n",
            "longitude                                             -22.5226\n",
            "Name: 0, dtype: object\n",
            "<class 'pandas.core.series.Series'>\n",
            "-41.9379\n",
            "-41.9379\n"
          ],
          "name": "stdout"
        }
      ]
    },
    {
      "cell_type": "code",
      "metadata": {
        "colab": {
          "base_uri": "https://localhost:8080/"
        },
        "id": "7xH6k32p9is1",
        "outputId": "5f325dab-4290-4084-b189-29e52af1cce4"
      },
      "source": [
        "print(dt.lugar)\r\n",
        "\r\n",
        "print(type(dt.lugar))"
      ],
      "execution_count": 77,
      "outputs": [
        {
          "output_type": "stream",
          "text": [
            "0      Rio das Ostras\n",
            "1           Sao Paulo\n",
            "2              Lisbon\n",
            "3           Sao Paulo\n",
            "4              Santos\n",
            "            ...      \n",
            "495        Rio Branco\n",
            "496    Rio de Janeiro\n",
            "497           Toronto\n",
            "498         Sao Paulo\n",
            "499            Lisbon\n",
            "Name: lugar, Length: 500, dtype: object\n",
            "<class 'pandas.core.series.Series'>\n"
          ],
          "name": "stdout"
        }
      ]
    },
    {
      "cell_type": "code",
      "metadata": {
        "colab": {
          "base_uri": "https://localhost:8080/",
          "height": 198
        },
        "id": "EjgMGMqy-Cp1",
        "outputId": "c27dc2d1-43a2-4e5f-ddfd-7cbbeb445b3d"
      },
      "source": [
        "# Filtrando pelo valor\r\n",
        "\r\n",
        "dt[dt.lugar == 'Santos']"
      ],
      "execution_count": 87,
      "outputs": [
        {
          "output_type": "execute_result",
          "data": {
            "text/html": [
              "<div>\n",
              "<style scoped>\n",
              "    .dataframe tbody tr th:only-of-type {\n",
              "        vertical-align: middle;\n",
              "    }\n",
              "\n",
              "    .dataframe tbody tr th {\n",
              "        vertical-align: top;\n",
              "    }\n",
              "\n",
              "    .dataframe thead th {\n",
              "        text-align: right;\n",
              "    }\n",
              "</style>\n",
              "<table border=\"1\" class=\"dataframe\">\n",
              "  <thead>\n",
              "    <tr style=\"text-align: right;\">\n",
              "      <th></th>\n",
              "      <th>data</th>\n",
              "      <th>texto</th>\n",
              "      <th>retweet</th>\n",
              "      <th>idioma</th>\n",
              "      <th>lugar</th>\n",
              "      <th>pais</th>\n",
              "      <th>sigla</th>\n",
              "      <th>latitude</th>\n",
              "      <th>longitude</th>\n",
              "    </tr>\n",
              "  </thead>\n",
              "  <tbody>\n",
              "    <tr>\n",
              "      <th>4</th>\n",
              "      <td>2020-04-15 10:34:39</td>\n",
              "      <td>#cenasdocotidiano #santos #distanciamentosocia...</td>\n",
              "      <td>0</td>\n",
              "      <td>pt</td>\n",
              "      <td>Santos</td>\n",
              "      <td>Brazil</td>\n",
              "      <td>BR</td>\n",
              "      <td>-46.293700</td>\n",
              "      <td>-23.975947</td>\n",
              "    </tr>\n",
              "    <tr>\n",
              "      <th>198</th>\n",
              "      <td>2020-03-21 23:31:34</td>\n",
              "      <td>DIA 24/3, 21:00 horas LIVE no perfil da Dra Ra...</td>\n",
              "      <td>0</td>\n",
              "      <td>pt</td>\n",
              "      <td>Santos</td>\n",
              "      <td>Brazil</td>\n",
              "      <td>BR</td>\n",
              "      <td>-46.325000</td>\n",
              "      <td>-23.935400</td>\n",
              "    </tr>\n",
              "    <tr>\n",
              "      <th>227</th>\n",
              "      <td>2020-04-04 21:21:39</td>\n",
              "      <td>Em tempos de Coronavirus no Brasil o povo está...</td>\n",
              "      <td>0</td>\n",
              "      <td>pt</td>\n",
              "      <td>Santos</td>\n",
              "      <td>Brazil</td>\n",
              "      <td>BR</td>\n",
              "      <td>-46.320418</td>\n",
              "      <td>-23.975065</td>\n",
              "    </tr>\n",
              "    <tr>\n",
              "      <th>322</th>\n",
              "      <td>2020-04-05 12:59:56</td>\n",
              "      <td>Meu objetivo de quarentena e reviver meu cacto...</td>\n",
              "      <td>0</td>\n",
              "      <td>pt</td>\n",
              "      <td>Santos</td>\n",
              "      <td>Brazil</td>\n",
              "      <td>BR</td>\n",
              "      <td>-46.309422</td>\n",
              "      <td>-23.972999</td>\n",
              "    </tr>\n",
              "    <tr>\n",
              "      <th>437</th>\n",
              "      <td>2020-04-16 05:26:51</td>\n",
              "      <td>Pode colocar 10x mais em cima desses números, ...</td>\n",
              "      <td>0</td>\n",
              "      <td>pt</td>\n",
              "      <td>Santos</td>\n",
              "      <td>Brazil</td>\n",
              "      <td>BR</td>\n",
              "      <td>-46.324411</td>\n",
              "      <td>-23.933876</td>\n",
              "    </tr>\n",
              "  </tbody>\n",
              "</table>\n",
              "</div>"
            ],
            "text/plain": [
              "                    data  ...  longitude\n",
              "4    2020-04-15 10:34:39  ... -23.975947\n",
              "198  2020-03-21 23:31:34  ... -23.935400\n",
              "227  2020-04-04 21:21:39  ... -23.975065\n",
              "322  2020-04-05 12:59:56  ... -23.972999\n",
              "437  2020-04-16 05:26:51  ... -23.933876\n",
              "\n",
              "[5 rows x 9 columns]"
            ]
          },
          "metadata": {
            "tags": []
          },
          "execution_count": 87
        }
      ]
    },
    {
      "cell_type": "code",
      "metadata": {
        "colab": {
          "base_uri": "https://localhost:8080/",
          "height": 198
        },
        "id": "i9yN_ooS-y8K",
        "outputId": "eb998110-fc11-49f3-b546-d3f2c03c9d6d"
      },
      "source": [
        "dt.iloc[50:55]"
      ],
      "execution_count": 88,
      "outputs": [
        {
          "output_type": "execute_result",
          "data": {
            "text/html": [
              "<div>\n",
              "<style scoped>\n",
              "    .dataframe tbody tr th:only-of-type {\n",
              "        vertical-align: middle;\n",
              "    }\n",
              "\n",
              "    .dataframe tbody tr th {\n",
              "        vertical-align: top;\n",
              "    }\n",
              "\n",
              "    .dataframe thead th {\n",
              "        text-align: right;\n",
              "    }\n",
              "</style>\n",
              "<table border=\"1\" class=\"dataframe\">\n",
              "  <thead>\n",
              "    <tr style=\"text-align: right;\">\n",
              "      <th></th>\n",
              "      <th>data</th>\n",
              "      <th>texto</th>\n",
              "      <th>retweet</th>\n",
              "      <th>idioma</th>\n",
              "      <th>lugar</th>\n",
              "      <th>pais</th>\n",
              "      <th>sigla</th>\n",
              "      <th>latitude</th>\n",
              "      <th>longitude</th>\n",
              "    </tr>\n",
              "  </thead>\n",
              "  <tbody>\n",
              "    <tr>\n",
              "      <th>50</th>\n",
              "      <td>2020-04-15 19:17:29</td>\n",
              "      <td>Campo Grande: Vereador Chiquinho Telles manife...</td>\n",
              "      <td>0</td>\n",
              "      <td>pt</td>\n",
              "      <td>Campo Grande</td>\n",
              "      <td>Brazil</td>\n",
              "      <td>BR</td>\n",
              "      <td>-54.616700</td>\n",
              "      <td>-20.450000</td>\n",
              "    </tr>\n",
              "    <tr>\n",
              "      <th>51</th>\n",
              "      <td>2020-04-06 18:07:36</td>\n",
              "      <td>Seu pet precisa de um lugar pra brincar e se d...</td>\n",
              "      <td>0</td>\n",
              "      <td>pt</td>\n",
              "      <td>Rio de Janeiro</td>\n",
              "      <td>Brazil</td>\n",
              "      <td>BR</td>\n",
              "      <td>-43.374200</td>\n",
              "      <td>-22.864700</td>\n",
              "    </tr>\n",
              "    <tr>\n",
              "      <th>52</th>\n",
              "      <td>2020-03-14 20:47:41</td>\n",
              "      <td>Podia ser hoje, mas o isolamento social não de...</td>\n",
              "      <td>0</td>\n",
              "      <td>pt</td>\n",
              "      <td>Lisbon</td>\n",
              "      <td>Portugal</td>\n",
              "      <td>PT</td>\n",
              "      <td>-9.139400</td>\n",
              "      <td>38.726100</td>\n",
              "    </tr>\n",
              "    <tr>\n",
              "      <th>53</th>\n",
              "      <td>2020-03-31 20:23:05</td>\n",
              "      <td>Estimo pronta recuperação ao Sr. José Paulo Ca...</td>\n",
              "      <td>0</td>\n",
              "      <td>pt</td>\n",
              "      <td>Porto Alegre</td>\n",
              "      <td>Brazil</td>\n",
              "      <td>BR</td>\n",
              "      <td>-51.220800</td>\n",
              "      <td>-30.029100</td>\n",
              "    </tr>\n",
              "    <tr>\n",
              "      <th>54</th>\n",
              "      <td>2020-03-05 10:11:05</td>\n",
              "      <td>Covid-19 em Portugal: \"Mais vale fazer as cois...</td>\n",
              "      <td>0</td>\n",
              "      <td>pt</td>\n",
              "      <td>Lisbon</td>\n",
              "      <td>Portugal</td>\n",
              "      <td>PT</td>\n",
              "      <td>-9.099043</td>\n",
              "      <td>38.747518</td>\n",
              "    </tr>\n",
              "  </tbody>\n",
              "</table>\n",
              "</div>"
            ],
            "text/plain": [
              "                   data  ...  longitude\n",
              "50  2020-04-15 19:17:29  ... -20.450000\n",
              "51  2020-04-06 18:07:36  ... -22.864700\n",
              "52  2020-03-14 20:47:41  ...  38.726100\n",
              "53  2020-03-31 20:23:05  ... -30.029100\n",
              "54  2020-03-05 10:11:05  ...  38.747518\n",
              "\n",
              "[5 rows x 9 columns]"
            ]
          },
          "metadata": {
            "tags": []
          },
          "execution_count": 88
        }
      ]
    },
    {
      "cell_type": "code",
      "metadata": {
        "colab": {
          "base_uri": "https://localhost:8080/",
          "height": 408
        },
        "id": "f1kzZrYH_K1z",
        "outputId": "69a472d3-265b-4d1a-e576-4c6c3ed4c962"
      },
      "source": [
        "dt.iloc[:]"
      ],
      "execution_count": 89,
      "outputs": [
        {
          "output_type": "execute_result",
          "data": {
            "text/html": [
              "<div>\n",
              "<style scoped>\n",
              "    .dataframe tbody tr th:only-of-type {\n",
              "        vertical-align: middle;\n",
              "    }\n",
              "\n",
              "    .dataframe tbody tr th {\n",
              "        vertical-align: top;\n",
              "    }\n",
              "\n",
              "    .dataframe thead th {\n",
              "        text-align: right;\n",
              "    }\n",
              "</style>\n",
              "<table border=\"1\" class=\"dataframe\">\n",
              "  <thead>\n",
              "    <tr style=\"text-align: right;\">\n",
              "      <th></th>\n",
              "      <th>data</th>\n",
              "      <th>texto</th>\n",
              "      <th>retweet</th>\n",
              "      <th>idioma</th>\n",
              "      <th>lugar</th>\n",
              "      <th>pais</th>\n",
              "      <th>sigla</th>\n",
              "      <th>latitude</th>\n",
              "      <th>longitude</th>\n",
              "    </tr>\n",
              "  </thead>\n",
              "  <tbody>\n",
              "    <tr>\n",
              "      <th>0</th>\n",
              "      <td>2020-05-23 00:21:14</td>\n",
              "      <td>Para voltar tudo ao normal, você precisa fazer...</td>\n",
              "      <td>0</td>\n",
              "      <td>pt</td>\n",
              "      <td>Rio das Ostras</td>\n",
              "      <td>Brazil</td>\n",
              "      <td>BR</td>\n",
              "      <td>-41.937900</td>\n",
              "      <td>-22.522600</td>\n",
              "    </tr>\n",
              "    <tr>\n",
              "      <th>1</th>\n",
              "      <td>2020-03-22 22:57:51</td>\n",
              "      <td>14.245 – O que é a hidroxicloroquina? https://...</td>\n",
              "      <td>0</td>\n",
              "      <td>pt</td>\n",
              "      <td>Sao Paulo</td>\n",
              "      <td>Brazil</td>\n",
              "      <td>BR</td>\n",
              "      <td>-46.674739</td>\n",
              "      <td>-23.606067</td>\n",
              "    </tr>\n",
              "    <tr>\n",
              "      <th>2</th>\n",
              "      <td>2020-04-14 00:11:33</td>\n",
              "      <td>Quarta morte em Lar de Estarreja associada à C...</td>\n",
              "      <td>1</td>\n",
              "      <td>pt</td>\n",
              "      <td>Lisbon</td>\n",
              "      <td>Portugal</td>\n",
              "      <td>PT</td>\n",
              "      <td>-9.099043</td>\n",
              "      <td>38.747518</td>\n",
              "    </tr>\n",
              "    <tr>\n",
              "      <th>3</th>\n",
              "      <td>2020-05-25 20:45:43</td>\n",
              "      <td>COVID-19 |  Hospital municipal Tide Setúbal, n...</td>\n",
              "      <td>0</td>\n",
              "      <td>pt</td>\n",
              "      <td>Sao Paulo</td>\n",
              "      <td>Brazil</td>\n",
              "      <td>BR</td>\n",
              "      <td>-46.633300</td>\n",
              "      <td>-23.550000</td>\n",
              "    </tr>\n",
              "    <tr>\n",
              "      <th>4</th>\n",
              "      <td>2020-04-15 10:34:39</td>\n",
              "      <td>#cenasdocotidiano #santos #distanciamentosocia...</td>\n",
              "      <td>0</td>\n",
              "      <td>pt</td>\n",
              "      <td>Santos</td>\n",
              "      <td>Brazil</td>\n",
              "      <td>BR</td>\n",
              "      <td>-46.293700</td>\n",
              "      <td>-23.975947</td>\n",
              "    </tr>\n",
              "    <tr>\n",
              "      <th>...</th>\n",
              "      <td>...</td>\n",
              "      <td>...</td>\n",
              "      <td>...</td>\n",
              "      <td>...</td>\n",
              "      <td>...</td>\n",
              "      <td>...</td>\n",
              "      <td>...</td>\n",
              "      <td>...</td>\n",
              "      <td>...</td>\n",
              "    </tr>\n",
              "    <tr>\n",
              "      <th>495</th>\n",
              "      <td>2020-04-07 16:14:13</td>\n",
              "      <td>O isolamento social também serve para mostrar ...</td>\n",
              "      <td>1</td>\n",
              "      <td>pt</td>\n",
              "      <td>Rio Branco</td>\n",
              "      <td>Brazil</td>\n",
              "      <td>BR</td>\n",
              "      <td>-67.859657</td>\n",
              "      <td>-9.932246</td>\n",
              "    </tr>\n",
              "    <tr>\n",
              "      <th>496</th>\n",
              "      <td>2020-03-26 18:02:28</td>\n",
              "      <td>Enquanto o mundo está atento ao covid 19 é o B...</td>\n",
              "      <td>0</td>\n",
              "      <td>pt</td>\n",
              "      <td>Rio de Janeiro</td>\n",
              "      <td>Brazil</td>\n",
              "      <td>BR</td>\n",
              "      <td>-43.358100</td>\n",
              "      <td>-22.942800</td>\n",
              "    </tr>\n",
              "    <tr>\n",
              "      <th>497</th>\n",
              "      <td>2020-03-18 05:28:16</td>\n",
              "      <td>#covid_19 #stayhome @ Toronto, Ontario https:/...</td>\n",
              "      <td>0</td>\n",
              "      <td>pt</td>\n",
              "      <td>Toronto</td>\n",
              "      <td>Canada</td>\n",
              "      <td>CA</td>\n",
              "      <td>-79.387200</td>\n",
              "      <td>43.648000</td>\n",
              "    </tr>\n",
              "    <tr>\n",
              "      <th>498</th>\n",
              "      <td>2020-03-03 21:27:11</td>\n",
              "      <td>Um vira-lata sem Coronavirus #joeviralata #dog...</td>\n",
              "      <td>0</td>\n",
              "      <td>pt</td>\n",
              "      <td>Sao Paulo</td>\n",
              "      <td>Brazil</td>\n",
              "      <td>BR</td>\n",
              "      <td>-46.633300</td>\n",
              "      <td>-23.550000</td>\n",
              "    </tr>\n",
              "    <tr>\n",
              "      <th>499</th>\n",
              "      <td>2020-01-21 13:18:03</td>\n",
              "      <td>Portugal já está a preparar-se para responder ...</td>\n",
              "      <td>1</td>\n",
              "      <td>pt</td>\n",
              "      <td>Lisbon</td>\n",
              "      <td>Portugal</td>\n",
              "      <td>PT</td>\n",
              "      <td>-9.099043</td>\n",
              "      <td>38.747518</td>\n",
              "    </tr>\n",
              "  </tbody>\n",
              "</table>\n",
              "<p>500 rows × 9 columns</p>\n",
              "</div>"
            ],
            "text/plain": [
              "                    data  ...  longitude\n",
              "0    2020-05-23 00:21:14  ... -22.522600\n",
              "1    2020-03-22 22:57:51  ... -23.606067\n",
              "2    2020-04-14 00:11:33  ...  38.747518\n",
              "3    2020-05-25 20:45:43  ... -23.550000\n",
              "4    2020-04-15 10:34:39  ... -23.975947\n",
              "..                   ...  ...        ...\n",
              "495  2020-04-07 16:14:13  ...  -9.932246\n",
              "496  2020-03-26 18:02:28  ... -22.942800\n",
              "497  2020-03-18 05:28:16  ...  43.648000\n",
              "498  2020-03-03 21:27:11  ... -23.550000\n",
              "499  2020-01-21 13:18:03  ...  38.747518\n",
              "\n",
              "[500 rows x 9 columns]"
            ]
          },
          "metadata": {
            "tags": []
          },
          "execution_count": 89
        }
      ]
    },
    {
      "cell_type": "code",
      "metadata": {
        "colab": {
          "base_uri": "https://localhost:8080/",
          "height": 1000
        },
        "id": "tk4R4QS2_Oa0",
        "outputId": "e461bc00-65cf-4b7b-dc2b-e70d1d5e2d2b"
      },
      "source": [
        "quantidade_total = len(dt.index)\r\n",
        "\r\n",
        "print(quantidade_total)\r\n",
        "\r\n",
        "dt.iloc[-50:]"
      ],
      "execution_count": 96,
      "outputs": [
        {
          "output_type": "stream",
          "text": [
            "500\n"
          ],
          "name": "stdout"
        },
        {
          "output_type": "execute_result",
          "data": {
            "text/html": [
              "<div>\n",
              "<style scoped>\n",
              "    .dataframe tbody tr th:only-of-type {\n",
              "        vertical-align: middle;\n",
              "    }\n",
              "\n",
              "    .dataframe tbody tr th {\n",
              "        vertical-align: top;\n",
              "    }\n",
              "\n",
              "    .dataframe thead th {\n",
              "        text-align: right;\n",
              "    }\n",
              "</style>\n",
              "<table border=\"1\" class=\"dataframe\">\n",
              "  <thead>\n",
              "    <tr style=\"text-align: right;\">\n",
              "      <th></th>\n",
              "      <th>data</th>\n",
              "      <th>texto</th>\n",
              "      <th>retweet</th>\n",
              "      <th>idioma</th>\n",
              "      <th>lugar</th>\n",
              "      <th>pais</th>\n",
              "      <th>sigla</th>\n",
              "      <th>latitude</th>\n",
              "      <th>longitude</th>\n",
              "    </tr>\n",
              "  </thead>\n",
              "  <tbody>\n",
              "    <tr>\n",
              "      <th>450</th>\n",
              "      <td>2020-01-31 16:50:40</td>\n",
              "      <td>#nCOV2019 HOJE ÀS 16:00h LIVE sobre CORONAVÍRU...</td>\n",
              "      <td>0</td>\n",
              "      <td>pt</td>\n",
              "      <td>Rio de Janeiro</td>\n",
              "      <td>Brazil</td>\n",
              "      <td>BR</td>\n",
              "      <td>-43.319746</td>\n",
              "      <td>-23.002840</td>\n",
              "    </tr>\n",
              "    <tr>\n",
              "      <th>451</th>\n",
              "      <td>2020-04-15 23:47:27</td>\n",
              "      <td>Niver de geminiano em tempos de distanciamento...</td>\n",
              "      <td>0</td>\n",
              "      <td>pt</td>\n",
              "      <td>Rio das Ostras</td>\n",
              "      <td>Brazil</td>\n",
              "      <td>BR</td>\n",
              "      <td>-41.937900</td>\n",
              "      <td>-22.522600</td>\n",
              "    </tr>\n",
              "    <tr>\n",
              "      <th>452</th>\n",
              "      <td>2020-04-06 20:13:17</td>\n",
              "      <td>Prefeito afirma que caso a quantidade de pesso...</td>\n",
              "      <td>0</td>\n",
              "      <td>pt</td>\n",
              "      <td>Campo Grande</td>\n",
              "      <td>Brazil</td>\n",
              "      <td>BR</td>\n",
              "      <td>-54.616700</td>\n",
              "      <td>-20.450000</td>\n",
              "    </tr>\n",
              "    <tr>\n",
              "      <th>453</th>\n",
              "      <td>2020-03-13 21:02:00</td>\n",
              "      <td>#CANADA #covid_19 #covıd19 #coronavirus #truth...</td>\n",
              "      <td>0</td>\n",
              "      <td>pt</td>\n",
              "      <td>Toronto</td>\n",
              "      <td>Canada</td>\n",
              "      <td>CA</td>\n",
              "      <td>-79.387200</td>\n",
              "      <td>43.648000</td>\n",
              "    </tr>\n",
              "    <tr>\n",
              "      <th>454</th>\n",
              "      <td>2020-04-11 06:25:15</td>\n",
              "      <td>A tranquilidade de quem aderiu cedo ao lockdow...</td>\n",
              "      <td>0</td>\n",
              "      <td>pt</td>\n",
              "      <td>Auckland</td>\n",
              "      <td>New Zealand</td>\n",
              "      <td>NZ</td>\n",
              "      <td>174.765000</td>\n",
              "      <td>-36.847000</td>\n",
              "    </tr>\n",
              "    <tr>\n",
              "      <th>455</th>\n",
              "      <td>2020-03-08 19:30:30</td>\n",
              "      <td>O programa Passando a Limpo com Carla Machado ...</td>\n",
              "      <td>0</td>\n",
              "      <td>pt</td>\n",
              "      <td>Angra dos Reis</td>\n",
              "      <td>Brazil</td>\n",
              "      <td>BR</td>\n",
              "      <td>-44.317986</td>\n",
              "      <td>-23.007902</td>\n",
              "    </tr>\n",
              "    <tr>\n",
              "      <th>456</th>\n",
              "      <td>2020-04-17 05:39:44</td>\n",
              "      <td>O nosso maior valor é a vida. Salve a ti e o m...</td>\n",
              "      <td>0</td>\n",
              "      <td>pt</td>\n",
              "      <td>Republic of Mozambique</td>\n",
              "      <td>Republic of Mozambique</td>\n",
              "      <td>MZ</td>\n",
              "      <td>38.999700</td>\n",
              "      <td>-13.125600</td>\n",
              "    </tr>\n",
              "    <tr>\n",
              "      <th>457</th>\n",
              "      <td>2020-04-03 13:44:00</td>\n",
              "      <td>O TRABALHO NÃO PODE PARAR! \\\\ Devido a pandemi...</td>\n",
              "      <td>1</td>\n",
              "      <td>pt</td>\n",
              "      <td>Mossoró</td>\n",
              "      <td>Brazil</td>\n",
              "      <td>BR</td>\n",
              "      <td>-37.343889</td>\n",
              "      <td>-5.187778</td>\n",
              "    </tr>\n",
              "    <tr>\n",
              "      <th>458</th>\n",
              "      <td>2020-03-03 22:38:55</td>\n",
              "      <td>Gravei hoje com a equipe do Jornal da Record s...</td>\n",
              "      <td>1</td>\n",
              "      <td>pt</td>\n",
              "      <td>Sao Paulo</td>\n",
              "      <td>Brazil</td>\n",
              "      <td>BR</td>\n",
              "      <td>-46.660270</td>\n",
              "      <td>-23.555720</td>\n",
              "    </tr>\n",
              "    <tr>\n",
              "      <th>459</th>\n",
              "      <td>2020-03-17 23:18:39</td>\n",
              "      <td>Coronavírus, a prevenção é fundamental! #covıd...</td>\n",
              "      <td>0</td>\n",
              "      <td>pt</td>\n",
              "      <td>Recife</td>\n",
              "      <td>Brazil</td>\n",
              "      <td>BR</td>\n",
              "      <td>-34.890080</td>\n",
              "      <td>-8.059860</td>\n",
              "    </tr>\n",
              "    <tr>\n",
              "      <th>460</th>\n",
              "      <td>2020-03-30 17:45:49</td>\n",
              "      <td>#reflexão #COVID19 #coronavirusbrazil #quarent...</td>\n",
              "      <td>0</td>\n",
              "      <td>pt</td>\n",
              "      <td>Salvador</td>\n",
              "      <td>Brazil</td>\n",
              "      <td>BR</td>\n",
              "      <td>-38.462041</td>\n",
              "      <td>-12.998912</td>\n",
              "    </tr>\n",
              "    <tr>\n",
              "      <th>461</th>\n",
              "      <td>2020-03-06 11:53:38</td>\n",
              "      <td>Linha de apoio aos viajantes com dúvidas sobre...</td>\n",
              "      <td>1</td>\n",
              "      <td>pt</td>\n",
              "      <td>Lisbon</td>\n",
              "      <td>Portugal</td>\n",
              "      <td>PT</td>\n",
              "      <td>-9.099043</td>\n",
              "      <td>38.747518</td>\n",
              "    </tr>\n",
              "    <tr>\n",
              "      <th>462</th>\n",
              "      <td>2020-03-14 17:37:48</td>\n",
              "      <td>#danielnews #profdanielramos #coronavirus #cov...</td>\n",
              "      <td>0</td>\n",
              "      <td>pt</td>\n",
              "      <td>Belo Horizonte</td>\n",
              "      <td>Brazil</td>\n",
              "      <td>BR</td>\n",
              "      <td>-43.938700</td>\n",
              "      <td>-19.919100</td>\n",
              "    </tr>\n",
              "    <tr>\n",
              "      <th>463</th>\n",
              "      <td>2020-05-30 14:09:42</td>\n",
              "      <td>Repost • governosergipe O momento agora é de i...</td>\n",
              "      <td>0</td>\n",
              "      <td>pt</td>\n",
              "      <td>Fátima</td>\n",
              "      <td>Brazil</td>\n",
              "      <td>BR</td>\n",
              "      <td>-38.183300</td>\n",
              "      <td>-10.700000</td>\n",
              "    </tr>\n",
              "    <tr>\n",
              "      <th>464</th>\n",
              "      <td>2020-05-31 22:48:54</td>\n",
              "      <td>SOCIEDADE HIPÓCRITA. CORONAVÍRUS... em Magalhã...</td>\n",
              "      <td>0</td>\n",
              "      <td>pt</td>\n",
              "      <td>Guanambi</td>\n",
              "      <td>Brazil</td>\n",
              "      <td>BR</td>\n",
              "      <td>-42.776079</td>\n",
              "      <td>-14.216078</td>\n",
              "    </tr>\n",
              "    <tr>\n",
              "      <th>465</th>\n",
              "      <td>2020-04-01 23:55:50</td>\n",
              "      <td>Aproveite esse tempo de quarentena e vá estuda...</td>\n",
              "      <td>0</td>\n",
              "      <td>pt</td>\n",
              "      <td>Sao Paulo</td>\n",
              "      <td>Brazil</td>\n",
              "      <td>BR</td>\n",
              "      <td>-46.633300</td>\n",
              "      <td>-23.550000</td>\n",
              "    </tr>\n",
              "    <tr>\n",
              "      <th>466</th>\n",
              "      <td>2020-01-21 12:01:34</td>\n",
              "      <td>Coronavírus. Macau cria centro de contingência...</td>\n",
              "      <td>1</td>\n",
              "      <td>pt</td>\n",
              "      <td>Lisbon</td>\n",
              "      <td>Portugal</td>\n",
              "      <td>PT</td>\n",
              "      <td>-9.099043</td>\n",
              "      <td>38.747518</td>\n",
              "    </tr>\n",
              "    <tr>\n",
              "      <th>467</th>\n",
              "      <td>2020-03-22 17:59:35</td>\n",
              "      <td>#almocinhodedomingo #churras #credoquedelícia ...</td>\n",
              "      <td>0</td>\n",
              "      <td>pt</td>\n",
              "      <td>Caieiras</td>\n",
              "      <td>Brazil</td>\n",
              "      <td>BR</td>\n",
              "      <td>-46.740080</td>\n",
              "      <td>-23.364520</td>\n",
              "    </tr>\n",
              "    <tr>\n",
              "      <th>468</th>\n",
              "      <td>2020-04-15 23:37:04</td>\n",
              "      <td>Foto: Dimas Cardoso / Outono 2020 #quarentena ...</td>\n",
              "      <td>0</td>\n",
              "      <td>pt</td>\n",
              "      <td>São José dos Campos</td>\n",
              "      <td>Brazil</td>\n",
              "      <td>BR</td>\n",
              "      <td>-45.879360</td>\n",
              "      <td>-23.231156</td>\n",
              "    </tr>\n",
              "    <tr>\n",
              "      <th>469</th>\n",
              "      <td>2020-03-18 16:40:26</td>\n",
              "      <td>#Quarentena #AulasSuspensas #USP #FFLCHUSP #FE...</td>\n",
              "      <td>0</td>\n",
              "      <td>pt</td>\n",
              "      <td>Cotia</td>\n",
              "      <td>Brazil</td>\n",
              "      <td>BR</td>\n",
              "      <td>-46.870671</td>\n",
              "      <td>-23.614586</td>\n",
              "    </tr>\n",
              "    <tr>\n",
              "      <th>470</th>\n",
              "      <td>2020-05-19 02:57:10</td>\n",
              "      <td>E DAI?  Que a Novalgina que todo mundo toma pr...</td>\n",
              "      <td>0</td>\n",
              "      <td>pt</td>\n",
              "      <td>Sao Paulo</td>\n",
              "      <td>Brazil</td>\n",
              "      <td>BR</td>\n",
              "      <td>-46.633300</td>\n",
              "      <td>-23.550000</td>\n",
              "    </tr>\n",
              "    <tr>\n",
              "      <th>471</th>\n",
              "      <td>2020-05-27 19:37:48</td>\n",
              "      <td>🌴 Um paraíso chamado Praia do Forte, Bahia. 🌴 ...</td>\n",
              "      <td>0</td>\n",
              "      <td>pt</td>\n",
              "      <td>Mata de São João</td>\n",
              "      <td>Brazil</td>\n",
              "      <td>BR</td>\n",
              "      <td>-38.006686</td>\n",
              "      <td>-12.576634</td>\n",
              "    </tr>\n",
              "    <tr>\n",
              "      <th>472</th>\n",
              "      <td>2020-03-22 13:14:24</td>\n",
              "      <td>Bom dia! Queridos pacientes devido ao aumento ...</td>\n",
              "      <td>0</td>\n",
              "      <td>pt</td>\n",
              "      <td>Ourinhos</td>\n",
              "      <td>Brazil</td>\n",
              "      <td>BR</td>\n",
              "      <td>-49.863711</td>\n",
              "      <td>-22.986262</td>\n",
              "    </tr>\n",
              "    <tr>\n",
              "      <th>473</th>\n",
              "      <td>2020-03-21 21:52:11</td>\n",
              "      <td>Nossa ultima LIVE da serie Dança de Salão X Co...</td>\n",
              "      <td>0</td>\n",
              "      <td>pt</td>\n",
              "      <td>Sao Paulo</td>\n",
              "      <td>Brazil</td>\n",
              "      <td>BR</td>\n",
              "      <td>-46.633300</td>\n",
              "      <td>-23.550000</td>\n",
              "    </tr>\n",
              "    <tr>\n",
              "      <th>474</th>\n",
              "      <td>2020-05-20 20:08:51</td>\n",
              "      <td>Amigas e amigos, também fiz o teste para o Cov...</td>\n",
              "      <td>0</td>\n",
              "      <td>pt</td>\n",
              "      <td>Recife</td>\n",
              "      <td>Brazil</td>\n",
              "      <td>BR</td>\n",
              "      <td>-34.891205</td>\n",
              "      <td>-8.048379</td>\n",
              "    </tr>\n",
              "    <tr>\n",
              "      <th>475</th>\n",
              "      <td>2020-04-08 14:47:56</td>\n",
              "      <td>ISOLAMENTO SOCIAL 👍♥️ COMBINEI COM A CADEIRA❗ ...</td>\n",
              "      <td>0</td>\n",
              "      <td>pt</td>\n",
              "      <td>Guanambi</td>\n",
              "      <td>Brazil</td>\n",
              "      <td>BR</td>\n",
              "      <td>-42.776079</td>\n",
              "      <td>-14.216078</td>\n",
              "    </tr>\n",
              "    <tr>\n",
              "      <th>476</th>\n",
              "      <td>2020-05-31 15:36:34</td>\n",
              "      <td>\"É difícil ver as pessoas morrendo, sendo trat...</td>\n",
              "      <td>0</td>\n",
              "      <td>pt</td>\n",
              "      <td>Rio de Janeiro</td>\n",
              "      <td>Brazil</td>\n",
              "      <td>BR</td>\n",
              "      <td>-43.369131</td>\n",
              "      <td>-22.968272</td>\n",
              "    </tr>\n",
              "    <tr>\n",
              "      <th>477</th>\n",
              "      <td>2020-01-23 14:49:02</td>\n",
              "      <td>Coronavírus encerra Cidade Proibida de Pequim ...</td>\n",
              "      <td>1</td>\n",
              "      <td>pt</td>\n",
              "      <td>Lisbon</td>\n",
              "      <td>Portugal</td>\n",
              "      <td>PT</td>\n",
              "      <td>-9.099043</td>\n",
              "      <td>38.747518</td>\n",
              "    </tr>\n",
              "    <tr>\n",
              "      <th>478</th>\n",
              "      <td>2020-03-25 17:34:20</td>\n",
              "      <td>Boa tarde ! Precisamos reagir agora ...Lockdow...</td>\n",
              "      <td>0</td>\n",
              "      <td>pt</td>\n",
              "      <td>Porto Alegre</td>\n",
              "      <td>Brazil</td>\n",
              "      <td>BR</td>\n",
              "      <td>-51.175074</td>\n",
              "      <td>-30.043128</td>\n",
              "    </tr>\n",
              "    <tr>\n",
              "      <th>479</th>\n",
              "      <td>2020-04-03 13:41:56</td>\n",
              "      <td>#covid #covidmemes #covidkindness #covid2020 #...</td>\n",
              "      <td>0</td>\n",
              "      <td>ca</td>\n",
              "      <td>Reus</td>\n",
              "      <td>Spain</td>\n",
              "      <td>ES</td>\n",
              "      <td>1.108359</td>\n",
              "      <td>41.155124</td>\n",
              "    </tr>\n",
              "    <tr>\n",
              "      <th>480</th>\n",
              "      <td>2020-04-06 20:22:49</td>\n",
              "      <td>O Sistema CNA/Senar lançou o projeto Feira Seg...</td>\n",
              "      <td>1</td>\n",
              "      <td>pt</td>\n",
              "      <td>São Félix do Araguaia</td>\n",
              "      <td>Brazil</td>\n",
              "      <td>BR</td>\n",
              "      <td>-53.000000</td>\n",
              "      <td>-11.000000</td>\n",
              "    </tr>\n",
              "    <tr>\n",
              "      <th>481</th>\n",
              "      <td>2020-03-13 18:39:03</td>\n",
              "      <td>Santa Maria abre primeira enfermaria do país e...</td>\n",
              "      <td>1</td>\n",
              "      <td>pt</td>\n",
              "      <td>Lisbon</td>\n",
              "      <td>Portugal</td>\n",
              "      <td>PT</td>\n",
              "      <td>-9.099043</td>\n",
              "      <td>38.747518</td>\n",
              "    </tr>\n",
              "    <tr>\n",
              "      <th>482</th>\n",
              "      <td>2020-04-02 16:58:58</td>\n",
              "      <td>#TBT especial neste Dia Mundial de Conscientiz...</td>\n",
              "      <td>0</td>\n",
              "      <td>pt</td>\n",
              "      <td>Sorocaba</td>\n",
              "      <td>Brazil</td>\n",
              "      <td>BR</td>\n",
              "      <td>-47.504517</td>\n",
              "      <td>-23.487882</td>\n",
              "    </tr>\n",
              "    <tr>\n",
              "      <th>483</th>\n",
              "      <td>2020-03-21 16:05:28</td>\n",
              "      <td>Sejam otimistas vamos cooperar com as quarente...</td>\n",
              "      <td>0</td>\n",
              "      <td>pt</td>\n",
              "      <td>Mogi das Cruzes</td>\n",
              "      <td>Brazil</td>\n",
              "      <td>BR</td>\n",
              "      <td>-46.194014</td>\n",
              "      <td>-23.523959</td>\n",
              "    </tr>\n",
              "    <tr>\n",
              "      <th>484</th>\n",
              "      <td>2020-04-08 01:41:56</td>\n",
              "      <td>Atividades diversificafas. Não estamos de féri...</td>\n",
              "      <td>0</td>\n",
              "      <td>pt</td>\n",
              "      <td>Feira de Santana</td>\n",
              "      <td>Brazil</td>\n",
              "      <td>BR</td>\n",
              "      <td>-38.949887</td>\n",
              "      <td>-12.273669</td>\n",
              "    </tr>\n",
              "    <tr>\n",
              "      <th>485</th>\n",
              "      <td>2020-04-14 23:37:07</td>\n",
              "      <td>Na missão quase impossivel que se tornou ir no...</td>\n",
              "      <td>1</td>\n",
              "      <td>pt</td>\n",
              "      <td>Recife</td>\n",
              "      <td>Brazil</td>\n",
              "      <td>BR</td>\n",
              "      <td>-34.925700</td>\n",
              "      <td>-8.060500</td>\n",
              "    </tr>\n",
              "    <tr>\n",
              "      <th>486</th>\n",
              "      <td>2020-04-03 04:08:13</td>\n",
              "      <td>Vamos mostrar na mídia a quantidade de pessoas...</td>\n",
              "      <td>0</td>\n",
              "      <td>pt</td>\n",
              "      <td>Petrópolis</td>\n",
              "      <td>Brazil</td>\n",
              "      <td>BR</td>\n",
              "      <td>-43.199658</td>\n",
              "      <td>-22.533328</td>\n",
              "    </tr>\n",
              "    <tr>\n",
              "      <th>487</th>\n",
              "      <td>2020-03-18 10:02:58</td>\n",
              "      <td>Pessoal, estamos diante de uma situação, para ...</td>\n",
              "      <td>0</td>\n",
              "      <td>pt</td>\n",
              "      <td>Recife</td>\n",
              "      <td>Brazil</td>\n",
              "      <td>BR</td>\n",
              "      <td>-34.896278</td>\n",
              "      <td>-8.116724</td>\n",
              "    </tr>\n",
              "    <tr>\n",
              "      <th>488</th>\n",
              "      <td>2020-03-21 20:59:35</td>\n",
              "      <td>Amigos idosos se vocês não ficarem em casa nes...</td>\n",
              "      <td>0</td>\n",
              "      <td>pt</td>\n",
              "      <td>Ibertioga</td>\n",
              "      <td>Brazil</td>\n",
              "      <td>BR</td>\n",
              "      <td>-43.963650</td>\n",
              "      <td>-21.432240</td>\n",
              "    </tr>\n",
              "    <tr>\n",
              "      <th>489</th>\n",
              "      <td>2020-04-07 22:11:41</td>\n",
              "      <td>Quando era verão e era seguro ir à praia. Saud...</td>\n",
              "      <td>0</td>\n",
              "      <td>pt</td>\n",
              "      <td>Florianópolis</td>\n",
              "      <td>Brazil</td>\n",
              "      <td>BR</td>\n",
              "      <td>-48.506734</td>\n",
              "      <td>-27.677304</td>\n",
              "    </tr>\n",
              "    <tr>\n",
              "      <th>490</th>\n",
              "      <td>2020-04-16 19:29:12</td>\n",
              "      <td>Alguém disse coxinha?! #ChelseaExpress #Angelo...</td>\n",
              "      <td>1</td>\n",
              "      <td>pt</td>\n",
              "      <td>City of London</td>\n",
              "      <td>United Kingdom</td>\n",
              "      <td>GB</td>\n",
              "      <td>-0.109400</td>\n",
              "      <td>51.514100</td>\n",
              "    </tr>\n",
              "    <tr>\n",
              "      <th>491</th>\n",
              "      <td>2020-04-16 05:34:04</td>\n",
              "      <td>Luanda Leaks, Brexit ou a vingança do Irão. Gr...</td>\n",
              "      <td>0</td>\n",
              "      <td>pt</td>\n",
              "      <td>Lisbon</td>\n",
              "      <td>Portugal</td>\n",
              "      <td>PT</td>\n",
              "      <td>-9.099043</td>\n",
              "      <td>38.747518</td>\n",
              "    </tr>\n",
              "    <tr>\n",
              "      <th>492</th>\n",
              "      <td>2020-05-25 14:43:25</td>\n",
              "      <td>De acordo com a nova pesquisa Kantar IBOPE, a ...</td>\n",
              "      <td>0</td>\n",
              "      <td>pt</td>\n",
              "      <td>Caruaru</td>\n",
              "      <td>Brazil</td>\n",
              "      <td>BR</td>\n",
              "      <td>-35.969399</td>\n",
              "      <td>-8.286753</td>\n",
              "    </tr>\n",
              "    <tr>\n",
              "      <th>493</th>\n",
              "      <td>2020-04-08 23:40:59</td>\n",
              "      <td>A Lei 13.987/20 garante a distribuição dos ali...</td>\n",
              "      <td>0</td>\n",
              "      <td>pt</td>\n",
              "      <td>Medianeira</td>\n",
              "      <td>Brazil</td>\n",
              "      <td>BR</td>\n",
              "      <td>-54.104104</td>\n",
              "      <td>-25.297434</td>\n",
              "    </tr>\n",
              "    <tr>\n",
              "      <th>494</th>\n",
              "      <td>2020-04-14 12:06:38</td>\n",
              "      <td>A 2ª Vara de Família e Sucessões de Jacareí, e...</td>\n",
              "      <td>0</td>\n",
              "      <td>pt</td>\n",
              "      <td>Sao Paulo</td>\n",
              "      <td>Brazil</td>\n",
              "      <td>BR</td>\n",
              "      <td>-46.638670</td>\n",
              "      <td>-23.540780</td>\n",
              "    </tr>\n",
              "    <tr>\n",
              "      <th>495</th>\n",
              "      <td>2020-04-07 16:14:13</td>\n",
              "      <td>O isolamento social também serve para mostrar ...</td>\n",
              "      <td>1</td>\n",
              "      <td>pt</td>\n",
              "      <td>Rio Branco</td>\n",
              "      <td>Brazil</td>\n",
              "      <td>BR</td>\n",
              "      <td>-67.859657</td>\n",
              "      <td>-9.932246</td>\n",
              "    </tr>\n",
              "    <tr>\n",
              "      <th>496</th>\n",
              "      <td>2020-03-26 18:02:28</td>\n",
              "      <td>Enquanto o mundo está atento ao covid 19 é o B...</td>\n",
              "      <td>0</td>\n",
              "      <td>pt</td>\n",
              "      <td>Rio de Janeiro</td>\n",
              "      <td>Brazil</td>\n",
              "      <td>BR</td>\n",
              "      <td>-43.358100</td>\n",
              "      <td>-22.942800</td>\n",
              "    </tr>\n",
              "    <tr>\n",
              "      <th>497</th>\n",
              "      <td>2020-03-18 05:28:16</td>\n",
              "      <td>#covid_19 #stayhome @ Toronto, Ontario https:/...</td>\n",
              "      <td>0</td>\n",
              "      <td>pt</td>\n",
              "      <td>Toronto</td>\n",
              "      <td>Canada</td>\n",
              "      <td>CA</td>\n",
              "      <td>-79.387200</td>\n",
              "      <td>43.648000</td>\n",
              "    </tr>\n",
              "    <tr>\n",
              "      <th>498</th>\n",
              "      <td>2020-03-03 21:27:11</td>\n",
              "      <td>Um vira-lata sem Coronavirus #joeviralata #dog...</td>\n",
              "      <td>0</td>\n",
              "      <td>pt</td>\n",
              "      <td>Sao Paulo</td>\n",
              "      <td>Brazil</td>\n",
              "      <td>BR</td>\n",
              "      <td>-46.633300</td>\n",
              "      <td>-23.550000</td>\n",
              "    </tr>\n",
              "    <tr>\n",
              "      <th>499</th>\n",
              "      <td>2020-01-21 13:18:03</td>\n",
              "      <td>Portugal já está a preparar-se para responder ...</td>\n",
              "      <td>1</td>\n",
              "      <td>pt</td>\n",
              "      <td>Lisbon</td>\n",
              "      <td>Portugal</td>\n",
              "      <td>PT</td>\n",
              "      <td>-9.099043</td>\n",
              "      <td>38.747518</td>\n",
              "    </tr>\n",
              "  </tbody>\n",
              "</table>\n",
              "</div>"
            ],
            "text/plain": [
              "                    data  ...  longitude\n",
              "450  2020-01-31 16:50:40  ... -23.002840\n",
              "451  2020-04-15 23:47:27  ... -22.522600\n",
              "452  2020-04-06 20:13:17  ... -20.450000\n",
              "453  2020-03-13 21:02:00  ...  43.648000\n",
              "454  2020-04-11 06:25:15  ... -36.847000\n",
              "455  2020-03-08 19:30:30  ... -23.007902\n",
              "456  2020-04-17 05:39:44  ... -13.125600\n",
              "457  2020-04-03 13:44:00  ...  -5.187778\n",
              "458  2020-03-03 22:38:55  ... -23.555720\n",
              "459  2020-03-17 23:18:39  ...  -8.059860\n",
              "460  2020-03-30 17:45:49  ... -12.998912\n",
              "461  2020-03-06 11:53:38  ...  38.747518\n",
              "462  2020-03-14 17:37:48  ... -19.919100\n",
              "463  2020-05-30 14:09:42  ... -10.700000\n",
              "464  2020-05-31 22:48:54  ... -14.216078\n",
              "465  2020-04-01 23:55:50  ... -23.550000\n",
              "466  2020-01-21 12:01:34  ...  38.747518\n",
              "467  2020-03-22 17:59:35  ... -23.364520\n",
              "468  2020-04-15 23:37:04  ... -23.231156\n",
              "469  2020-03-18 16:40:26  ... -23.614586\n",
              "470  2020-05-19 02:57:10  ... -23.550000\n",
              "471  2020-05-27 19:37:48  ... -12.576634\n",
              "472  2020-03-22 13:14:24  ... -22.986262\n",
              "473  2020-03-21 21:52:11  ... -23.550000\n",
              "474  2020-05-20 20:08:51  ...  -8.048379\n",
              "475  2020-04-08 14:47:56  ... -14.216078\n",
              "476  2020-05-31 15:36:34  ... -22.968272\n",
              "477  2020-01-23 14:49:02  ...  38.747518\n",
              "478  2020-03-25 17:34:20  ... -30.043128\n",
              "479  2020-04-03 13:41:56  ...  41.155124\n",
              "480  2020-04-06 20:22:49  ... -11.000000\n",
              "481  2020-03-13 18:39:03  ...  38.747518\n",
              "482  2020-04-02 16:58:58  ... -23.487882\n",
              "483  2020-03-21 16:05:28  ... -23.523959\n",
              "484  2020-04-08 01:41:56  ... -12.273669\n",
              "485  2020-04-14 23:37:07  ...  -8.060500\n",
              "486  2020-04-03 04:08:13  ... -22.533328\n",
              "487  2020-03-18 10:02:58  ...  -8.116724\n",
              "488  2020-03-21 20:59:35  ... -21.432240\n",
              "489  2020-04-07 22:11:41  ... -27.677304\n",
              "490  2020-04-16 19:29:12  ...  51.514100\n",
              "491  2020-04-16 05:34:04  ...  38.747518\n",
              "492  2020-05-25 14:43:25  ...  -8.286753\n",
              "493  2020-04-08 23:40:59  ... -25.297434\n",
              "494  2020-04-14 12:06:38  ... -23.540780\n",
              "495  2020-04-07 16:14:13  ...  -9.932246\n",
              "496  2020-03-26 18:02:28  ... -22.942800\n",
              "497  2020-03-18 05:28:16  ...  43.648000\n",
              "498  2020-03-03 21:27:11  ... -23.550000\n",
              "499  2020-01-21 13:18:03  ...  38.747518\n",
              "\n",
              "[50 rows x 9 columns]"
            ]
          },
          "metadata": {
            "tags": []
          },
          "execution_count": 96
        }
      ]
    }
  ]
}